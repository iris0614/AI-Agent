{
 "cells": [
  {
   "cell_type": "code",
   "execution_count": 1,
   "metadata": {},
   "outputs": [],
   "source": [
    "from langsmith import Client\n",
    "from dotenv import load_dotenv\n",
    "\n",
    "load_dotenv()\n",
    "\n",
    "client = Client()\n",
    "\n",
    "# Create a dataset\n",
    "examples = [\n",
    "    (\"Which country's customers spent the most? And how much did they spend?\", \"The country whose customers spent the most is the USA, with a total expenditure of $523.06\"),\n",
    "    (\"What was the most purchased track of 2013?\", \"The most purchased track of 2013 was Hot Girl.\"),\n",
    "    (\"How many albums does the artist Led Zeppelin have?\",\"Led Zeppelin has 14 albums\"),\n",
    "    (\"What is the total price for the album “Big Ones”?\",\"The total price for the album 'Big Ones' is 14.85\"),\n",
    "    (\"Which sales agent made the most in sales in 2009?\", \"Steve Johnson made the most sales in 2009\"),\n",
    "]\n",
    "\n",
    "dataset_name = \"SQL Agent Response\"\n",
    "if not client.has_dataset(dataset_name=dataset_name):\n",
    "    dataset = client.create_dataset(dataset_name=dataset_name)\n",
    "    inputs, outputs = zip(\n",
    "        *[({\"input\": text}, {\"output\": label}) for text, label in examples]\n",
    "    )\n",
    "    client.create_examples(inputs=inputs, outputs=outputs, dataset_id=dataset.id)"
   ]
  }
 ],
 "metadata": {
  "kernelspec": {
   "display_name": "575",
   "language": "python",
   "name": "python3"
  },
  "language_info": {
   "codemirror_mode": {
    "name": "ipython",
    "version": 3
   },
   "file_extension": ".py",
   "mimetype": "text/x-python",
   "name": "python",
   "nbconvert_exporter": "python",
   "pygments_lexer": "ipython3",
   "version": "3.12.2"
  }
 },
 "nbformat": 4,
 "nbformat_minor": 2
}
